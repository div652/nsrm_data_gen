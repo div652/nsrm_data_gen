{
 "cells": [
  {
   "cell_type": "code",
   "execution_count": 6,
   "metadata": {},
   "outputs": [],
   "source": [
    "import json\n",
    "import numpy as np"
   ]
  },
  {
   "cell_type": "code",
   "execution_count": 7,
   "metadata": {},
   "outputs": [],
   "source": [
    "_instr_json = json.load(open('./instructions-train.json'))\n",
    "_scene_data = json.load(open('./scenes-train.json'))"
   ]
  },
  {
   "cell_type": "code",
   "execution_count": 8,
   "metadata": {},
   "outputs": [],
   "source": [
    "instr_json = _instr_json[\"instructions\"]\n",
    "scene_data = _scene_data['scenes']"
   ]
  },
  {
   "attachments": {},
   "cell_type": "markdown",
   "metadata": {},
   "source": [
    "# T5 data"
   ]
  },
  {
   "cell_type": "code",
   "execution_count": 4,
   "metadata": {},
   "outputs": [],
   "source": [
    "# scene_data[0][0]['objects']\n"
   ]
  },
  {
   "cell_type": "code",
   "execution_count": null,
   "metadata": {},
   "outputs": [],
   "source": [
    "# instr_json[0].keys()"
   ]
  },
  {
   "cell_type": "code",
   "execution_count": 4,
   "metadata": {},
   "outputs": [],
   "source": [
    "# data = []\n",
    "# for idx, instr in enumerate(instr_json):\n",
    "#     sent = instr_json[idx]['instruction']\n",
    "#     gprog = instr_json[idx]['grounded_program']\n",
    "#     parse = \"\"\n",
    "#     for prog in gprog:\n",
    "#         parse += f\"ASSIGN_HEAD(Unique(Filter({scene_data[idx][0]['objects'][prog[2]]['color']}, Filter({scene_data[idx][0]['objects'][prog[2]]['type']}, World)))) ; MOVE_HEAD({prog[0]}) ; KEEP(Filter({scene_data[idx][0]['objects'][prog[1]]['color']}, Filter({scene_data[idx][0]['objects'][prog[1]]['type']}, World))) ;\"\n",
    "#     data.append([sent, parse])"
   ]
  },
  {
   "cell_type": "code",
   "execution_count": 9,
   "metadata": {},
   "outputs": [],
   "source": [
    "data = []\n",
    "for idx, instr in enumerate(instr_json):\n",
    "    sent = instr_json[idx]['instruction']\n",
    "    gprog = instr_json[idx]['grounded_program']\n",
    "    parse = \"\"\n",
    "    # if prog[4] checks whether a scene was generated for this action. \n",
    "    # We only create parsed instructions for actions that are demonstrated through scenes. \n",
    "    for prog in gprog:\n",
    "        if(prog[4]):\n",
    "            move_head_part = f\"MOVE_HEAD({prog[0]}) ; \"\n",
    "            parse += f\"ASSIGN_HEAD(Unique(Filter({scene_data[idx][0]['objects'][prog[2]]['color']}, Filter({scene_data[idx][0]['objects'][prog[2]]['type']}, World)))) ; {prog[3] * move_head_part}KEEP(Filter({scene_data[idx][0]['objects'][prog[1]]['color']}, Filter({scene_data[idx][0]['objects'][prog[1]]['type']}, World))) ;\"\n",
    "\n",
    "    data.append([sent, parse])"
   ]
  },
  {
   "cell_type": "code",
   "execution_count": 10,
   "metadata": {},
   "outputs": [],
   "source": [
    "with open(\"./data_t5-train.txt\", 'w') as f:\n",
    "    for d in data:\n",
    "        f.write(f\"{d[0]}\\t{d[1]} \\n\")"
   ]
  },
  {
   "cell_type": "code",
   "execution_count": null,
   "metadata": {},
   "outputs": [],
   "source": []
  },
  {
   "attachments": {},
   "cell_type": "markdown",
   "metadata": {},
   "source": [
    "# DataRemove"
   ]
  },
  {
   "cell_type": "code",
   "execution_count": null,
   "metadata": {},
   "outputs": [],
   "source": [
    "import shutil\n",
    "for dir in ['train', 'val', 'test']:\n",
    "    instr_json = json.load(open(f'./instructions-{dir}.json'))\n",
    "    instr_json = instr_json[\"instructions\"]\n",
    "    for entry in instr_json:\n",
    "        if entry['template_json_filename'] == \"SingleStep.json\":\n",
    "            !rm -r ./{dir}/{entry['ex_dir']}\n",
    "            "
   ]
  },
  {
   "cell_type": "code",
   "execution_count": null,
   "metadata": {},
   "outputs": [],
   "source": []
  }
 ],
 "metadata": {
  "kernelspec": {
   "display_name": "nsymplan",
   "language": "python",
   "name": "python3"
  },
  "language_info": {
   "codemirror_mode": {
    "name": "ipython",
    "version": 3
   },
   "file_extension": ".py",
   "mimetype": "text/x-python",
   "name": "python",
   "nbconvert_exporter": "python",
   "pygments_lexer": "ipython3",
   "version": "3.8.10"
  },
  "orig_nbformat": 4,
  "vscode": {
   "interpreter": {
    "hash": "d04ee4c7756b38959b04b0d14429e4006974d726157ee5aa10275189addc5c79"
   }
  }
 },
 "nbformat": 4,
 "nbformat_minor": 2
}
